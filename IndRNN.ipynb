{
  "nbformat": 4,
  "nbformat_minor": 0,
  "metadata": {
    "colab": {
      "name": "IndRNN.ipynb",
      "provenance": []
    },
    "kernelspec": {
      "name": "python3",
      "display_name": "Python 3"
    },
    "accelerator": "GPU"
  },
  "cells": [
    {
      "cell_type": "markdown",
      "metadata": {
        "id": "3uP_SFj3yA_Q",
        "colab_type": "text"
      },
      "source": [
        "# Motivation\n",
        "\n",
        "In a traditional RNN, the hidden state $h_t$ is updated at a time $t$ as\n",
        "\n",
        "$$h_t = \\sigma\\left(Wx_t + Uh_{t-1} + b\\right)$$\n",
        "Where $x_t \\in \\mathcal{R}^n$ is the input at time $t$, $h_{t-1} \\in \\mathcal{R}^\\ell$ is the previous hidden state, and $W \\in \\mathcal{R}^{\\ell \\times n}, U \\in \\mathcal{R}^{\\ell \\times \\ell}, b \\in \\mathcal{R}^\\ell$ are all learned parameters, and $\\sigma$ is a nonlinear activation function. The $j$th output neuron of this can be represented as:\n",
        "\n",
        "$$h_{j,t} = \\sigma\\left((Wx_t)_j + (Uh_{t-1})_j + b_j\\right) = \\sigma\\left(b_j + \\sum_{i=1}^{n}{W_{ji}x_{i,t}} + \\sum_{i=1}^{\\ell}{U_{ji}h_{i,t-1}}\\right)$$\n",
        "\n",
        "As can be seen above, there is a neuronal connection between the neurons $h_{j,t}$ and $h_{i,t-1}$ for all $i=1,\\ldots,\\ell$. The authors argue that this can cause exploding/vanishing gradients, and instead allow only the connections between $h_{j,t}$ and $h_{j,t-1}$, as:\n",
        "\n",
        "$$h_{j,t} = \\sigma\\left(b_j + u_{j}h_{j,t-1} + \\sum_{i=1}^{n}{W_{ji}x_{i,t}}\\right)$$\n",
        "\n",
        "This corresponds to replacing the linear transformation $U$ with a vector $u$ to be instead multiplied element-wise with $h_{t-1}$. Alternatively, this can be represented by a diagonal matrix $\\text{diag}(u) = \\begin{pmatrix}u_1 & \\ldots & 0 \\\\ 0 & \\ddots & 0 \\\\ 0 & \\ldots & u_n\\end{pmatrix}$:\n",
        "\n",
        "$$h_t = \\sigma\\left(Wx_t + u\\odot h_{t-1} + b\\right) = \\sigma\\left(Wx_t + \\text{diag}(u)h_{t-1} + b\\right)$$"
      ]
    },
    {
      "cell_type": "code",
      "metadata": {
        "id": "9dDwkxUwx9Ht",
        "colab_type": "code",
        "outputId": "1390a104-280f-455e-ec35-2046e5fe7baa",
        "colab": {
          "base_uri": "https://localhost:8080/",
          "height": 34
        }
      },
      "source": [
        "%tensorflow_version 1.x"
      ],
      "execution_count": 1,
      "outputs": [
        {
          "output_type": "stream",
          "text": [
            "TensorFlow 1.x selected.\n"
          ],
          "name": "stdout"
        }
      ]
    },
    {
      "cell_type": "code",
      "metadata": {
        "id": "egpQtMD616fh",
        "colab_type": "code",
        "outputId": "83075408-ae4a-4777-f529-385140a6297a",
        "colab": {
          "base_uri": "https://localhost:8080/",
          "height": 34
        }
      },
      "source": [
        "import keras\n",
        "import keras.backend as K"
      ],
      "execution_count": 2,
      "outputs": [
        {
          "output_type": "stream",
          "text": [
            "Using TensorFlow backend.\n"
          ],
          "name": "stderr"
        }
      ]
    },
    {
      "cell_type": "markdown",
      "metadata": {
        "id": "mBfII9ZQ1-ry",
        "colab_type": "text"
      },
      "source": [
        "# Define a class `IndRNNCell` representing the transformation $(x_t, h_{t-1}) \\mapsto h_t$ that can layer be wrapped in a `keras.layers.RNN` object."
      ]
    },
    {
      "cell_type": "code",
      "metadata": {
        "id": "njaAb_vz19XW",
        "colab_type": "code",
        "colab": {}
      },
      "source": [
        "import numpy as np\n",
        "class IndRNNCell(keras.layers.Layer):\n",
        "    def __init__(self,\n",
        "                 units,\n",
        "                 kernel_initializer='glorot_uniform',\n",
        "                 recurrent_kernel_initializer='glorot_uniform',\n",
        "                 bias_initializer='zeros',\n",
        "                 recurrent_clip=1,\n",
        "                 activation='relu',\n",
        "                 **kwargs):\n",
        "        self.units = units\n",
        "        self.state_size = units\n",
        "        self.kernel_initializer = kernel_initializer\n",
        "        self.recurrent_kernel_initializer = recurrent_kernel_initializer\n",
        "        self.bias_initializer = bias_initializer\n",
        "        self.recurrent_clip = recurrent_clip\n",
        "        self.activation = keras.layers.Activation(activation)\n",
        "        super(IndRNNCell, self).__init__(**kwargs)\n",
        "    \n",
        "    def compute_output_shape(input_shape):\n",
        "        return (input_shape[0], self.units)\n",
        "    \n",
        "    def build(self, input_shape, **kwargs):\n",
        "        self.kernel = self.add_weight(name='kernel',\n",
        "                                      shape=(input_shape[-1], self.units),\n",
        "                                      initializer=self.kernel_initializer)\n",
        "        self.recurrent_kernel = self.add_weight(name='recurrent_kernel',\n",
        "                                                shape=(self.units,),\n",
        "                                                initializer=self.recurrent_kernel_initializer)\n",
        "        sgn = K.sign(self.recurrent_kernel)\n",
        "        self.recurrent_kernel = K.clip(K.abs(self.recurrent_kernel), 0, self.recurrent_clip) * sgn\n",
        "        self.bias = self.add_weight(name='bias',\n",
        "                                    shape=(self.units,),\n",
        "                                    initializer=self.bias_initializer)\n",
        "        super(IndRNNCell, self).build(input_shape, **kwargs)\n",
        "    \n",
        "    def call(self, inputs, states):\n",
        "        prev_state = states[0]\n",
        "        h = K.dot(inputs, self.kernel)\n",
        "        h = h + prev_state * self.recurrent_kernel\n",
        "        h = h + self.bias\n",
        "        h = self.activation(h)\n",
        "        return h, [h]"
      ],
      "execution_count": 0,
      "outputs": []
    },
    {
      "cell_type": "code",
      "metadata": {
        "id": "uWso3Q324bxt",
        "colab_type": "code",
        "outputId": "7517ae6b-98d9-4a3e-ba42-f5041ca3ed18",
        "colab": {
          "base_uri": "https://localhost:8080/",
          "height": 136
        }
      },
      "source": [
        "!git clone https://github.com/wtaylor17/keras-vpnn.git\n",
        "import sys\n",
        "sys.path.append('keras-vpnn')"
      ],
      "execution_count": 4,
      "outputs": [
        {
          "output_type": "stream",
          "text": [
            "Cloning into 'keras-vpnn'...\n",
            "remote: Enumerating objects: 129, done.\u001b[K\n",
            "remote: Counting objects: 100% (129/129), done.\u001b[K\n",
            "remote: Compressing objects: 100% (85/85), done.\u001b[K\n",
            "remote: Total 129 (delta 72), reused 92 (delta 40), pack-reused 0\u001b[K\n",
            "Receiving objects: 100% (129/129), 21.38 KiB | 5.34 MiB/s, done.\n",
            "Resolving deltas: 100% (72/72), done.\n"
          ],
          "name": "stdout"
        }
      ]
    },
    {
      "cell_type": "markdown",
      "metadata": {
        "id": "iPlOWNgq_ZTn",
        "colab_type": "text"
      },
      "source": [
        "The paper recommends we restrict $|u_j| \\in [0, 2^{1/T}]$. Let's do that too and test on the adding problem with $T = 100, \\ell = 128$."
      ]
    },
    {
      "cell_type": "code",
      "metadata": {
        "id": "2lyJoxIY4lg5",
        "colab_type": "code",
        "outputId": "be2ec16b-ce69-4e1f-f492-f97448a35ba5",
        "colab": {
          "base_uri": "https://localhost:8080/",
          "height": 1000
        }
      },
      "source": [
        "from vpnn.utils import adding_problem_generator\n",
        "from keras.optimizers import Adam\n",
        "lr = 0.0002\n",
        "batch_size = 128\n",
        "steps_per_epoch = 50\n",
        "epochs = 100\n",
        "decay = lr / (steps_per_epoch * epochs)\n",
        "time_steps = 100\n",
        "n_layers = 2\n",
        "clip_val = 2 ** (1 / time_steps)\n",
        "gen = adding_problem_generator(time_steps=time_steps, batch_size=batch_size)\n",
        "\n",
        "inp = keras.layers.Input((time_steps, 2))\n",
        "rnn = keras.layers.RNN(IndRNNCell(128, activation='relu',\n",
        "                                  recurrent_clip=clip_val),\n",
        "                       return_sequences=True)(inp)\n",
        "rnn = keras.layers.RNN(IndRNNCell(128, activation='relu',\n",
        "                                  recurrent_clip=clip_val))(rnn)\n",
        "dense = keras.layers.Dense(1, activation=None)(rnn)\n",
        "\n",
        "model = keras.models.Model(inp, dense)\n",
        "\n",
        "model.compile(loss='mse', optimizer=Adam(lr=lr, amsgrad=True, decay=decay))\n",
        "\n",
        "history = model.fit_generator(gen(),\n",
        "                              epochs=epochs,\n",
        "                              steps_per_epoch=steps_per_epoch).history"
      ],
      "execution_count": 14,
      "outputs": [
        {
          "output_type": "stream",
          "text": [
            "Epoch 1/100\n",
            "50/50 [==============================] - 10s 197ms/step - loss: 0.8770\n",
            "Epoch 2/100\n",
            "50/50 [==============================] - 9s 186ms/step - loss: 0.3467\n",
            "Epoch 3/100\n",
            "50/50 [==============================] - 9s 186ms/step - loss: 0.1822\n",
            "Epoch 4/100\n",
            "50/50 [==============================] - 9s 186ms/step - loss: 0.1773\n",
            "Epoch 5/100\n",
            "50/50 [==============================] - 9s 185ms/step - loss: 0.1699\n",
            "Epoch 6/100\n",
            "50/50 [==============================] - 9s 184ms/step - loss: 0.1653\n",
            "Epoch 7/100\n",
            "50/50 [==============================] - 9s 185ms/step - loss: 0.1693\n",
            "Epoch 8/100\n",
            "50/50 [==============================] - 9s 185ms/step - loss: 0.1702\n",
            "Epoch 9/100\n",
            "50/50 [==============================] - 9s 185ms/step - loss: 0.1710\n",
            "Epoch 10/100\n",
            "50/50 [==============================] - 9s 184ms/step - loss: 0.1685\n",
            "Epoch 11/100\n",
            "50/50 [==============================] - 9s 186ms/step - loss: 0.1696\n",
            "Epoch 12/100\n",
            "50/50 [==============================] - 9s 184ms/step - loss: 0.1667\n",
            "Epoch 13/100\n",
            "50/50 [==============================] - 9s 184ms/step - loss: 0.1686\n",
            "Epoch 14/100\n",
            "50/50 [==============================] - 9s 183ms/step - loss: 0.1668\n",
            "Epoch 15/100\n",
            "50/50 [==============================] - 9s 185ms/step - loss: 0.1662\n",
            "Epoch 16/100\n",
            "50/50 [==============================] - 9s 185ms/step - loss: 0.1673\n",
            "Epoch 17/100\n",
            "50/50 [==============================] - 9s 183ms/step - loss: 0.1642\n",
            "Epoch 18/100\n",
            "50/50 [==============================] - 9s 185ms/step - loss: 0.1660\n",
            "Epoch 19/100\n",
            "50/50 [==============================] - 9s 186ms/step - loss: 0.1696\n",
            "Epoch 20/100\n",
            "50/50 [==============================] - 9s 184ms/step - loss: 0.1634\n",
            "Epoch 21/100\n",
            "50/50 [==============================] - 9s 182ms/step - loss: 0.1630\n",
            "Epoch 22/100\n",
            "50/50 [==============================] - 9s 187ms/step - loss: 0.1647\n",
            "Epoch 23/100\n",
            "50/50 [==============================] - 9s 186ms/step - loss: 0.1668\n",
            "Epoch 24/100\n",
            "50/50 [==============================] - 9s 185ms/step - loss: 0.1675\n",
            "Epoch 25/100\n",
            "50/50 [==============================] - 9s 187ms/step - loss: 0.1656\n",
            "Epoch 26/100\n",
            "50/50 [==============================] - 9s 186ms/step - loss: 0.1639\n",
            "Epoch 27/100\n",
            "50/50 [==============================] - 9s 181ms/step - loss: 0.1640\n",
            "Epoch 28/100\n",
            "50/50 [==============================] - 9s 184ms/step - loss: 0.1650\n",
            "Epoch 29/100\n",
            "50/50 [==============================] - 9s 184ms/step - loss: 0.1637\n",
            "Epoch 30/100\n",
            "50/50 [==============================] - 9s 185ms/step - loss: 0.1651\n",
            "Epoch 31/100\n",
            "50/50 [==============================] - 9s 184ms/step - loss: 0.1639\n",
            "Epoch 32/100\n",
            "50/50 [==============================] - 9s 184ms/step - loss: 0.1662\n",
            "Epoch 33/100\n",
            "50/50 [==============================] - 9s 184ms/step - loss: 0.1615\n",
            "Epoch 34/100\n",
            "50/50 [==============================] - 9s 184ms/step - loss: 0.1632\n",
            "Epoch 35/100\n",
            "50/50 [==============================] - 9s 184ms/step - loss: 0.1600\n",
            "Epoch 36/100\n",
            "50/50 [==============================] - 9s 182ms/step - loss: 0.1628\n",
            "Epoch 37/100\n",
            "50/50 [==============================] - 9s 182ms/step - loss: 0.1634\n",
            "Epoch 38/100\n",
            "50/50 [==============================] - 9s 185ms/step - loss: 0.1611\n",
            "Epoch 39/100\n",
            "50/50 [==============================] - 9s 185ms/step - loss: 0.1649\n",
            "Epoch 40/100\n",
            "50/50 [==============================] - 9s 185ms/step - loss: 0.1632\n",
            "Epoch 41/100\n",
            "50/50 [==============================] - 9s 181ms/step - loss: 0.1657\n",
            "Epoch 42/100\n",
            "50/50 [==============================] - 9s 184ms/step - loss: 0.1587\n",
            "Epoch 43/100\n",
            "50/50 [==============================] - 9s 186ms/step - loss: 0.1611\n",
            "Epoch 44/100\n",
            "50/50 [==============================] - 9s 187ms/step - loss: 0.1673\n",
            "Epoch 45/100\n",
            "50/50 [==============================] - 9s 185ms/step - loss: 0.1651\n",
            "Epoch 46/100\n",
            "50/50 [==============================] - 9s 186ms/step - loss: 0.1652\n",
            "Epoch 47/100\n",
            "50/50 [==============================] - 9s 186ms/step - loss: 0.1647\n",
            "Epoch 48/100\n",
            "50/50 [==============================] - 9s 185ms/step - loss: 0.1588\n",
            "Epoch 49/100\n",
            "50/50 [==============================] - 9s 186ms/step - loss: 0.1595\n",
            "Epoch 50/100\n",
            "50/50 [==============================] - 9s 184ms/step - loss: 0.1601\n",
            "Epoch 51/100\n",
            "50/50 [==============================] - 9s 184ms/step - loss: 0.1632\n",
            "Epoch 52/100\n",
            "50/50 [==============================] - 9s 185ms/step - loss: 0.1631\n",
            "Epoch 53/100\n",
            "50/50 [==============================] - 9s 185ms/step - loss: 0.1615\n",
            "Epoch 54/100\n",
            "50/50 [==============================] - 9s 185ms/step - loss: 0.1621\n",
            "Epoch 55/100\n",
            "50/50 [==============================] - 9s 185ms/step - loss: 0.1618\n",
            "Epoch 56/100\n",
            "50/50 [==============================] - 9s 186ms/step - loss: 0.1583\n",
            "Epoch 57/100\n",
            "50/50 [==============================] - 9s 185ms/step - loss: 0.1597\n",
            "Epoch 58/100\n",
            "50/50 [==============================] - 9s 190ms/step - loss: 0.1559\n",
            "Epoch 59/100\n",
            "50/50 [==============================] - 10s 192ms/step - loss: 0.1612\n",
            "Epoch 60/100\n",
            "50/50 [==============================] - 9s 186ms/step - loss: 0.1608\n",
            "Epoch 61/100\n",
            "50/50 [==============================] - 9s 186ms/step - loss: 0.1599\n",
            "Epoch 62/100\n",
            "50/50 [==============================] - 9s 189ms/step - loss: 0.1548\n",
            "Epoch 63/100\n",
            "50/50 [==============================] - 9s 189ms/step - loss: 0.1538\n",
            "Epoch 64/100\n",
            "50/50 [==============================] - 9s 186ms/step - loss: 0.1429\n",
            "Epoch 65/100\n",
            "50/50 [==============================] - 9s 190ms/step - loss: 0.0862\n",
            "Epoch 66/100\n",
            "50/50 [==============================] - 9s 190ms/step - loss: 0.0595\n",
            "Epoch 67/100\n",
            "50/50 [==============================] - 9s 188ms/step - loss: 0.0473\n",
            "Epoch 68/100\n",
            "50/50 [==============================] - 9s 186ms/step - loss: 0.0419\n",
            "Epoch 69/100\n",
            "50/50 [==============================] - 9s 186ms/step - loss: 0.0344\n",
            "Epoch 70/100\n",
            "50/50 [==============================] - 9s 189ms/step - loss: 0.0307\n",
            "Epoch 71/100\n",
            "50/50 [==============================] - 9s 189ms/step - loss: 0.0256\n",
            "Epoch 72/100\n",
            "50/50 [==============================] - 9s 187ms/step - loss: 0.0232\n",
            "Epoch 73/100\n",
            "50/50 [==============================] - 9s 187ms/step - loss: 0.0225\n",
            "Epoch 74/100\n",
            "50/50 [==============================] - 9s 187ms/step - loss: 0.0196\n",
            "Epoch 75/100\n",
            "50/50 [==============================] - 9s 186ms/step - loss: 0.0179\n",
            "Epoch 76/100\n",
            "50/50 [==============================] - 9s 187ms/step - loss: 0.0156\n",
            "Epoch 77/100\n",
            "50/50 [==============================] - 9s 187ms/step - loss: 0.0146\n",
            "Epoch 78/100\n",
            "50/50 [==============================] - 9s 185ms/step - loss: 0.0142\n",
            "Epoch 79/100\n",
            "50/50 [==============================] - 9s 183ms/step - loss: 0.0134\n",
            "Epoch 80/100\n",
            "50/50 [==============================] - 9s 186ms/step - loss: 0.0115\n",
            "Epoch 81/100\n",
            "50/50 [==============================] - 9s 186ms/step - loss: 0.0104\n",
            "Epoch 82/100\n",
            "50/50 [==============================] - 9s 186ms/step - loss: 0.0094\n",
            "Epoch 83/100\n",
            "50/50 [==============================] - 9s 175ms/step - loss: 0.0092\n",
            "Epoch 84/100\n",
            "50/50 [==============================] - 9s 181ms/step - loss: 0.0085\n",
            "Epoch 85/100\n",
            "50/50 [==============================] - 9s 185ms/step - loss: 0.0086\n",
            "Epoch 86/100\n",
            "50/50 [==============================] - 9s 183ms/step - loss: 0.0079\n",
            "Epoch 87/100\n",
            "50/50 [==============================] - 9s 185ms/step - loss: 0.0079\n",
            "Epoch 88/100\n",
            "50/50 [==============================] - 9s 184ms/step - loss: 0.0080\n",
            "Epoch 89/100\n",
            "50/50 [==============================] - 9s 184ms/step - loss: 0.0071\n",
            "Epoch 90/100\n",
            "50/50 [==============================] - 9s 179ms/step - loss: 0.0075\n",
            "Epoch 91/100\n",
            "50/50 [==============================] - 9s 179ms/step - loss: 0.0075\n",
            "Epoch 92/100\n",
            "50/50 [==============================] - 9s 177ms/step - loss: 0.0073\n",
            "Epoch 93/100\n",
            "50/50 [==============================] - 9s 178ms/step - loss: 0.0068\n",
            "Epoch 94/100\n",
            "50/50 [==============================] - 9s 171ms/step - loss: 0.0065\n",
            "Epoch 95/100\n",
            "50/50 [==============================] - 9s 179ms/step - loss: 0.0064\n",
            "Epoch 96/100\n",
            "50/50 [==============================] - 11s 224ms/step - loss: 0.0062\n",
            "Epoch 97/100\n",
            "50/50 [==============================] - 10s 192ms/step - loss: 0.0062\n",
            "Epoch 98/100\n",
            "50/50 [==============================] - 10s 192ms/step - loss: 0.0067\n",
            "Epoch 99/100\n",
            "50/50 [==============================] - 10s 193ms/step - loss: 0.0060\n",
            "Epoch 100/100\n",
            "50/50 [==============================] - 10s 195ms/step - loss: 0.0061\n"
          ],
          "name": "stdout"
        }
      ]
    },
    {
      "cell_type": "markdown",
      "metadata": {
        "id": "IS0Wx-5vz10a",
        "colab_type": "text"
      },
      "source": [
        "# Let's look at the loss!"
      ]
    },
    {
      "cell_type": "code",
      "metadata": {
        "id": "3grUmCvo79dR",
        "colab_type": "code",
        "outputId": "30ae52ca-2b03-4229-8998-021ffc493f3f",
        "colab": {
          "base_uri": "https://localhost:8080/",
          "height": 285
        }
      },
      "source": [
        "import matplotlib.pyplot as plt\n",
        "import seaborn as sns\n",
        "sns.set()\n",
        "\n",
        "baseline = [0.167] * epochs\n",
        "plt.plot(baseline, 'r--', label='base line')\n",
        "plt.plot(history['loss'], label='loss')\n",
        "plt.legend()\n",
        "plt.title(r'MSE for $T=100$')\n",
        "plt.show()"
      ],
      "execution_count": 17,
      "outputs": [
        {
          "output_type": "display_data",
          "data": {
            "image/png": "[encoded data removed]",
            "text/plain": [
              "<Figure size 432x288 with 1 Axes>"
            ]
          },
          "metadata": {
            "tags": []
          }
        }
      ]
    }
  ]
}